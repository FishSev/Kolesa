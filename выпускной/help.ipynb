{
 "cells": [
  {
   "cell_type": "code",
   "execution_count": 73,
   "metadata": {},
   "outputs": [
    {
     "name": "stdout",
     "output_type": "stream",
     "text": [
      "{\"status\":\"ok\"}\n"
     ]
    }
   ],
   "source": [
    "import os\n",
    "import requests\n",
    "\n",
    "os.environ['NO_PROXY'] = '127.0.0.1'\n",
    "url = 'http://127.0.0.1:8888/messages/sendToAll'\n",
    "myobj = {\n",
    "    'body': 'hi', \n",
    "    'title': 'hello',\n",
    "    'other field': 'not empty',\n",
    "    }\n",
    "try:\n",
    "    x = requests.post(url, json = myobj, timeout=2)\n",
    "    print(x.text)\n",
    "except Exception as error:\n",
    "    print(error)"
   ]
  },
  {
   "cell_type": "code",
   "execution_count": 10,
   "metadata": {},
   "outputs": [
    {
     "name": "stdout",
     "output_type": "stream",
     "text": [
      "Method Not Allowed\n",
      "\n"
     ]
    }
   ],
   "source": [
    "import os\n",
    "import requests\n",
    "\n",
    "os.environ['NO_PROXY'] = '127.0.0.1'\n",
    "r = requests.get('http://127.0.0.1:8888/messages/sendToAll')\n",
    "print(r.text)"
   ]
  }
 ],
 "metadata": {
  "kernelspec": {
   "display_name": "Python 3.9.13 ('base')",
   "language": "python",
   "name": "python3"
  },
  "language_info": {
   "codemirror_mode": {
    "name": "ipython",
    "version": 3
   },
   "file_extension": ".py",
   "mimetype": "text/x-python",
   "name": "python",
   "nbconvert_exporter": "python",
   "pygments_lexer": "ipython3",
   "version": "3.9.13"
  },
  "orig_nbformat": 4,
  "vscode": {
   "interpreter": {
    "hash": "e02ca03ce0b514d24dbf020dbdbfa9482f32481a31dd97784a1fdfb617c1a64a"
   }
  }
 },
 "nbformat": 4,
 "nbformat_minor": 2
}
